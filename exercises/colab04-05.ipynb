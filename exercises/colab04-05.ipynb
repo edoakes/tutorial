{
  "nbformat": 4,
  "nbformat_minor": 0,
  "metadata": {
    "kernelspec": {
      "display_name": "Python 3",
      "language": "python",
      "name": "python3"
    },
    "language_info": {
      "codemirror_mode": {
        "name": "ipython",
        "version": 3
      },
      "file_extension": ".py",
      "mimetype": "text/x-python",
      "name": "python",
      "nbconvert_exporter": "python",
      "pygments_lexer": "ipython3",
      "version": "3.6.1"
    },
    "toc": {
      "base_numbering": 1,
      "nav_menu": {},
      "number_sections": false,
      "sideBar": true,
      "skip_h1_title": false,
      "title_cell": "Table of Contents",
      "title_sidebar": "Contents",
      "toc_cell": false,
      "toc_position": {
        "height": "calc(100% - 180px)",
        "left": "10px",
        "top": "150px",
        "width": "382.391px"
      },
      "toc_section_display": true,
      "toc_window_display": true
    },
    "colab": {
      "name": "Copy of exercise04-Actors.ipynb",
      "provenance": [],
      "collapsed_sections": []
    }
  },
  "cells": [
    {
      "cell_type": "markdown",
      "metadata": {
        "id": "wTCNfLLgeOp5",
        "colab_type": "text"
      },
      "source": [
        "# Before you start\n",
        "\n",
        "**Install dependencies** if you are on Google Colab: Before you start this exercise, you need to install the dependencies **and click on \"Restart Runtime\"**."
      ]
    },
    {
      "cell_type": "code",
      "metadata": {
        "id": "gS2mswUUeMr8",
        "colab_type": "code",
        "colab": {}
      },
      "source": [
        "!pip uninstall -y pyarrow\n",
        "!pip install ray[debug]==0.7.5"
      ],
      "execution_count": 0,
      "outputs": []
    },
    {
      "cell_type": "markdown",
      "metadata": {
        "id": "ei5WPYjRdskC",
        "colab_type": "text"
      },
      "source": [
        "# Exercise 4 - Introducing Actors\n",
        "\n",
        "**Goal:** The goal of this exercise is to show how to create an actor and how to call actor methods.\n",
        "\n",
        "See the documentation on actors at http://ray.readthedocs.io/en/latest/actors.html.\n",
        "\n",
        "Sometimes you need a \"worker\" process to have \"state\". For example, that state might be a neural network, a simulator environment, a counter, or something else entirely. However, remote functions are side-effect free. That is, they operate on inputs and produce outputs, but they don't change the state of the worker they execute on.\n",
        "\n",
        "Actors are different. When we instantiate an actor, a brand new worker is created, and all methods that are called on that actor are executed on the newly created worker.\n",
        "\n",
        "This means that with a single actor, no parallelism can be achieved because calls to the actor's methods will be executed one at a time. However, multiple actors can be created and methods can be executed on them in parallel.\n",
        "\n",
        "### Concepts for this Exercise - Actors\n",
        "\n",
        "To create an actor, decorate Python class with the `@ray.remote` decorator.\n",
        "\n",
        "```python\n",
        "@ray.remote\n",
        "class Example(object):\n",
        "    def __init__(self, x):\n",
        "        self.x = x\n",
        "    \n",
        "    def set(self, x):\n",
        "        self.x = x\n",
        "    \n",
        "    def get(self):\n",
        "        return self.x\n",
        "```\n",
        "\n",
        "Like regular Python classes, **actors encapsulate state that is shared across actor method invocations**.\n",
        "\n",
        "Actor classes differ from regular Python classes in the following ways.\n",
        "1. **Instantiation:** A regular class would be instantiated via `e = Example(1)`. Actors are instantiated via\n",
        "    ```python\n",
        "    e = Example.remote(1)\n",
        "    ```\n",
        "    When an actor is instantiated, a **new worker process** is created by a local scheduler somewhere in the cluster.\n",
        "2. **Method Invocation:** Methods of a regular class would be invoked via `e.set(2)` or `e.get()`. Actor methods are invoked differently.\n",
        "    ```python\n",
        "    >>> e.set.remote(2)\n",
        "    ObjectID(d966aa9b6486331dc2257522734a69ff603e5a1c)\n",
        "    \n",
        "    >>> e.get.remote()\n",
        "    ObjectID(7c432c085864ed4c7c18cf112377a608676afbc3)\n",
        "    ```\n",
        "3. **Return Values:** Actor methods are non-blocking. They immediately return an object ID and **they create a task which is scheduled on the actor worker**. The result can be retrieved with `ray.get`.\n",
        "    ```python\n",
        "    >>> ray.get(e.set.remote(2))\n",
        "    None\n",
        "    \n",
        "    >>> ray.get(e.get.remote())\n",
        "    2\n",
        "    ```"
      ]
    },
    {
      "cell_type": "code",
      "metadata": {
        "id": "impMwpoqdskF",
        "colab_type": "code",
        "colab": {}
      },
      "source": [
        "from __future__ import absolute_import\n",
        "from __future__ import division\n",
        "from __future__ import print_function\n",
        "\n",
        "from collections import defaultdict\n",
        "import numpy as np\n",
        "import ray\n",
        "import time"
      ],
      "execution_count": 0,
      "outputs": []
    },
    {
      "cell_type": "code",
      "metadata": {
        "id": "qMVSh6bBdskJ",
        "colab_type": "code",
        "colab": {}
      },
      "source": [
        "ray.init(num_cpus=4, include_webui=False, ignore_reinit_error=True)"
      ],
      "execution_count": 0,
      "outputs": []
    },
    {
      "cell_type": "markdown",
      "metadata": {
        "id": "B6nnZRgPdskM",
        "colab_type": "text"
      },
      "source": [
        "**EXERCISE:** Change the `Foo` class to be an actor class by using the `@ray.remote` decorator."
      ]
    },
    {
      "cell_type": "code",
      "metadata": {
        "id": "36mT90AzdskN",
        "colab_type": "code",
        "colab": {}
      },
      "source": [
        "class Foo(object):\n",
        "    def __init__(self):\n",
        "        self.counter = 0\n",
        "\n",
        "    def reset(self):\n",
        "        self.counter = 0\n",
        "\n",
        "    def increment(self):\n",
        "        time.sleep(0.5)\n",
        "        self.counter += 1\n",
        "        return self.counter\n",
        "\n",
        "assert hasattr(Foo, 'remote'), 'You need to turn \"Foo\" into an actor with @ray.remote.'"
      ],
      "execution_count": 0,
      "outputs": []
    },
    {
      "cell_type": "markdown",
      "metadata": {
        "id": "2x-RmcLHdskQ",
        "colab_type": "text"
      },
      "source": [
        "**EXERCISE:** Change the intantiations below to create two actors by calling `Foo.remote()`."
      ]
    },
    {
      "cell_type": "code",
      "metadata": {
        "id": "UEY4DM14dskR",
        "colab_type": "code",
        "colab": {}
      },
      "source": [
        "# Create two Foo objects.\n",
        "f1 = Foo()\n",
        "f2 = Foo()"
      ],
      "execution_count": 0,
      "outputs": []
    },
    {
      "cell_type": "markdown",
      "metadata": {
        "id": "uNLLwSDedskU",
        "colab_type": "text"
      },
      "source": [
        "**EXERCISE:** Parallelize the code below. The two actors can execute methods in parallel (though each actor can only execute one method at a time)."
      ]
    },
    {
      "cell_type": "code",
      "metadata": {
        "id": "oQ1rPfH-dskU",
        "colab_type": "code",
        "colab": {}
      },
      "source": [
        "start_time = time.time()\n",
        "\n",
        "# Reset the actor state so that we can run this cell multiple times without\n",
        "# changing the results.\n",
        "f1.reset()\n",
        "f2.reset()\n",
        "\n",
        "# We want to parallelize this code. However, it is not straightforward to\n",
        "# make \"increment\" a remote function, because state is shared (the value of\n",
        "# \"self.counter\") between subsequent calls to \"increment\". In this case, it\n",
        "# makes sense to use actors.\n",
        "results = []\n",
        "for _ in range(5):\n",
        "    results.append(f1.increment())\n",
        "    results.append(f2.increment())\n",
        "\n",
        "end_time = time.time()\n",
        "duration = end_time - start_time\n",
        "\n",
        "assert not any([isinstance(result, ray.ObjectID) for result in results]), 'Looks like \"results\" is {}. You may have forgotten to call ray.get.'.format(results)"
      ],
      "execution_count": 0,
      "outputs": []
    },
    {
      "cell_type": "markdown",
      "metadata": {
        "id": "-NShq-F3dska",
        "colab_type": "text"
      },
      "source": [
        "**VERIFY:** Run some checks to verify that the changes you made to the code were correct. Some of the checks should fail when you initially run the cells. After completing the exercises, the checks should pass."
      ]
    },
    {
      "cell_type": "code",
      "metadata": {
        "id": "w8t7nmbHdskc",
        "colab_type": "code",
        "colab": {}
      },
      "source": [
        "assert results == [1, 1, 2, 2, 3, 3, 4, 4, 5, 5]\n",
        "\n",
        "assert duration < 3, ('The experiments ran in {} seconds. This is too '\n",
        "                      'slow.'.format(duration))\n",
        "assert duration > 2.5, ('The experiments ran in {} seconds. This is too '\n",
        "                        'fast.'.format(duration))\n",
        "\n",
        "print('Success! The example took {} seconds.'.format(duration))"
      ],
      "execution_count": 0,
      "outputs": []
    },
    {
      "cell_type": "markdown",
      "metadata": {
        "id": "5PDHBlMRmwlJ",
        "colab_type": "text"
      },
      "source": [
        "# Exercise 5 - Actor Handles\n",
        "\n",
        "**GOAL:** The goal of this exercise is to show how to pass around actor handles.\n",
        "\n",
        "Suppose we wish to have multiple tasks invoke methods on the same actor. For example, we may have a single actor that records logging information from a number of tasks. We can achieve this by passing a handle to the actor as an argument into the relevant tasks.\n",
        "\n",
        "### Concepts for this Exercise - Actor  Handles\n",
        "\n",
        "First of all, suppose we've created an actor as follows.\n",
        "\n",
        "```python\n",
        "@ray.remote\n",
        "class Actor(object):\n",
        "    def method(self):\n",
        "        pass\n",
        "\n",
        "# Create the actor\n",
        "actor = Actor.remote()\n",
        "```\n",
        "\n",
        "Then we can define a remote function (or another actor) that takes an actor handle as an argument.\n",
        "\n",
        "```python\n",
        "@ray.remote\n",
        "def f(actor):\n",
        "    # We can invoke methods on the actor.\n",
        "    x_id = actor.method.remote()\n",
        "    # We can block and get the results.\n",
        "    return ray.get(x_id)\n",
        "```\n",
        "\n",
        "Then we can invoke the remote function a few times and pass in the actor handle.\n",
        "\n",
        "```python\n",
        "# Each of the three tasks created below will invoke methods on the same actor.\n",
        "f.remote(actor)\n",
        "f.remote(actor)\n",
        "f.remote(actor)\n",
        "```"
      ]
    },
    {
      "cell_type": "markdown",
      "metadata": {
        "id": "gwWAaZU-na-d",
        "colab_type": "text"
      },
      "source": [
        "In this exercise, we're going to write some code that runs several \"experiments\" in parallel and has each experiment log its results to an actor. The driver script can then periodically pull the results from the logging actor.\n",
        "\n",
        "**EXERCISE:** Turn this `LoggingActor` class into an actor class."
      ]
    },
    {
      "cell_type": "code",
      "metadata": {
        "id": "XEMkg2hTnckg",
        "colab_type": "code",
        "colab": {}
      },
      "source": [
        "class LoggingActor(object):\n",
        "    def __init__(self):\n",
        "        self.logs = defaultdict(lambda: [])\n",
        "    \n",
        "    def log(self, index, message):\n",
        "        self.logs[index].append(message)\n",
        "    \n",
        "    def get_logs(self):\n",
        "        return dict(self.logs)\n",
        "\n",
        "\n",
        "assert hasattr(LoggingActor, 'remote'), ('You need to turn LoggingActor into an '\n",
        "                                         'actor (by using the ray.remote keyword).')"
      ],
      "execution_count": 0,
      "outputs": []
    },
    {
      "cell_type": "markdown",
      "metadata": {
        "id": "SsuRSVf7nip1",
        "colab_type": "text"
      },
      "source": [
        "**EXERCISE:** Instantiate the actor."
      ]
    },
    {
      "cell_type": "code",
      "metadata": {
        "id": "-edD--YunoXB",
        "colab_type": "code",
        "colab": {}
      },
      "source": [
        "logging_actor = LoggingActor()\n",
        "\n",
        "# Some checks to make sure this was done correctly.\n",
        "assert hasattr(logging_actor, 'get_logs')"
      ],
      "execution_count": 0,
      "outputs": []
    },
    {
      "cell_type": "markdown",
      "metadata": {
        "id": "OJ08ei6WnprM",
        "colab_type": "text"
      },
      "source": [
        "Now we define a remote function that runs and pushes its logs to the `LoggingActor`.\n",
        "\n",
        "**EXERCISE:** Modify this function so that it invokes methods correctly on `logging_actor` (you need to change the way you call the `log` method)."
      ]
    },
    {
      "cell_type": "code",
      "metadata": {
        "id": "7aV7z23bnt21",
        "colab_type": "code",
        "colab": {}
      },
      "source": [
        "@ray.remote\n",
        "def run_experiment(experiment_index, logging_actor):\n",
        "    for i in range(60):\n",
        "        time.sleep(1)\n",
        "        # Push a logging message to the actor.\n",
        "        logging_actor.log(experiment_index, 'On iteration {}'.format(i))"
      ],
      "execution_count": 0,
      "outputs": []
    },
    {
      "cell_type": "markdown",
      "metadata": {
        "id": "NGv-_hOinxrU",
        "colab_type": "text"
      },
      "source": [
        "Now we create several tasks that use the logging actor."
      ]
    },
    {
      "cell_type": "code",
      "metadata": {
        "id": "vVNhaYfXn49g",
        "colab_type": "code",
        "colab": {}
      },
      "source": [
        "experiment_ids = [run_experiment.remote(i, logging_actor) for i in range(3)]"
      ],
      "execution_count": 0,
      "outputs": []
    },
    {
      "cell_type": "markdown",
      "metadata": {
        "id": "xzdS-HCJn-iF",
        "colab_type": "text"
      },
      "source": [
        "While the experiments are running in the background, the driver process (that is, this Jupyter notebook) can query the actor to read the logs.\n",
        "\n",
        "---\n",
        "\n",
        "\n",
        "\n",
        "**EXERCISE:** Modify the code below to dispatch methods to the `LoggingActor`."
      ]
    },
    {
      "cell_type": "code",
      "metadata": {
        "id": "KCAjMOZGoBjU",
        "colab_type": "code",
        "colab": {}
      },
      "source": [
        "logs = logging_actor.get_logs()\n",
        "\n",
        "assert isinstance(logs, dict), (\"Make sure that you dispatch tasks to the \"\n",
        "                                \"actor using the .remote keyword and get the results using ray.get.\")\n",
        "logs"
      ],
      "execution_count": 0,
      "outputs": []
    },
    {
      "cell_type": "markdown",
      "metadata": {
        "id": "zErhr777oFlJ",
        "colab_type": "text"
      },
      "source": [
        "**EXERCISE:** Try running the above box multiple times and see how the results change (while the experiments are still running in the background). You can also try running more of the experiment tasks and see what happens."
      ]
    }
  ]
}